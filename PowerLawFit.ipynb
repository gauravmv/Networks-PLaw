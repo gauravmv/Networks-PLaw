{
 "cells": [
  {
   "cell_type": "markdown",
   "metadata": {},
   "source": [
    "# Fitting Power Law Distributions"
   ]
  },
  {
   "cell_type": "code",
   "execution_count": 1,
   "metadata": {
    "scrolled": true
   },
   "outputs": [],
   "source": [
    "import numpy as np\n",
    "import plfit \n",
    "import scipy\n",
    "import matplotlib.pyplot as plt\n",
    "import networkx as nx\n",
    "\n",
    "#Global Variables\n",
    "pcheck = 500"
   ]
  },
  {
   "cell_type": "markdown",
   "metadata": {},
   "source": [
    "Finding the value of alpha according to Eq 3.7"
   ]
  },
  {
   "cell_type": "code",
   "execution_count": 2,
   "metadata": {},
   "outputs": [],
   "source": [
    "def finda(x, xmin):\n",
    "    afind = np.log((x)/(xmin-0.5)) \n",
    "    a_ = 1 + len(afind)*((sum(afind)**(-1)))\n",
    "    n = len(afind)\n",
    "    #Finite correction\n",
    "    a_ = a_*(n-1)/n + 1/n\n",
    "    return a_"
   ]
  },
  {
   "cell_type": "markdown",
   "metadata": {},
   "source": [
    "After obotaining the value of alpha, we look into a range of values around the guess, to widen our scope and obtain a more ideal value"
   ]
  },
  {
   "cell_type": "code",
   "execution_count": 3,
   "metadata": {},
   "outputs": [],
   "source": [
    "def alpharange(alpha, a_values):\n",
    "    return np.linspace(alpha*0.90, alpha*1.10, a_values) "
   ]
  },
  {
   "cell_type": "markdown",
   "metadata": {},
   "source": [
    "Among the values of alpha generated, the one that maximizes the log likelihood (As given in B.8) is the most ideal"
   ]
  },
  {
   "cell_type": "code",
   "execution_count": 4,
   "metadata": {},
   "outputs": [],
   "source": [
    "def llhood(alphavals, xmin, x):\n",
    "    temp = x[x >= xmin]\n",
    "    n = len(temp)\n",
    "    return (-n*np.log(scipy.special.zeta(alphavals, xmin)) - alphavals*np.sum(np.log(temp)))\n"
   ]
  },
  {
   "cell_type": "markdown",
   "metadata": {},
   "source": [
    "The KS Statistic is calculated for all the (xmin, alpha) pairs and the one that yields the minimum difference between the two is chosen"
   ]
  },
  {
   "cell_type": "code",
   "execution_count": 5,
   "metadata": {},
   "outputs": [],
   "source": [
    "def ks_value(alpha, xmin, x):\n",
    "    temp = x[x >= xmin]\n",
    "    n = len(temp)\n",
    "    ecdf = np.searchsorted(temp, temp, side = 'left')/n\n",
    "    cdf = 1 - (temp/xmin)**(-alpha + 1)\n",
    "    return max(abs(ecdf - cdf))"
   ]
  },
  {
   "cell_type": "markdown",
   "metadata": {},
   "source": [
    "All the unique values in the data are possible candidates for xmin and we iterate through all of them, and using the methods discussed abovefind the best fit "
   ]
  },
  {
   "cell_type": "code",
   "execution_count": 6,
   "metadata": {},
   "outputs": [],
   "source": [
    "def findxmin(x):\n",
    "    x.sort()\n",
    "    ks = np.array([])\n",
    "    alpha_list = np.array([])\n",
    "    xminvals = np.unique(x)\n",
    "    for i in np.nditer(xminvals[:-1]):\n",
    "        temp = x[x >= i]\n",
    "        xmin = i\n",
    "        alpha = finda(temp, xmin)\n",
    "        alphavals = alpharange(alpha, 100)\n",
    "\n",
    "        lhood = llhood(alphavals, xmin, temp)\n",
    "        best_alpha = alphavals[np.argmax(lhood)]\n",
    "        alpha_list = np.append(alpha_list, best_alpha)\n",
    "        ks = np.append(ks, ks_value(best_alpha, xmin, temp))\n",
    "\n",
    "    xmin_index = np.argmin(ks)\n",
    "    xmin = xminvals[xmin_index]\n",
    "    alpha = alpha_list[xmin_index]\n",
    "    pdata = x[x >= xmin]\n",
    "    n = len(pdata)\n",
    "    sigma = (alpha - 1)/np.sqrt(n)\n",
    "    ks = min(ks)\n",
    "    \n",
    "\n",
    "\n",
    "\n",
    "    \n",
    "    return xmin, alpha, n, sigma, ks, pdata\n",
    "    \n",
    "        \n",
    "        \n",
    "        \n",
    "    "
   ]
  },
  {
   "cell_type": "code",
   "execution_count": 7,
   "metadata": {},
   "outputs": [],
   "source": [
    "def pplot(pdata, xmin, alpha):\n",
    "    plt.loglog()\n",
    "    m = np.unique(pdata)\n",
    "    n = len(pdata)\n",
    "    y = np.array([])\n",
    "    \n",
    "    for i in np.nditer(m):\n",
    "        y = np.append(y, n - list(pdata).index(i))\n",
    "    y /= n\n",
    "        \n",
    "    plt.scatter(m, y, label = \"degree distribution\")\n",
    "    plt.scatter(m, (m/xmin)**(-alpha + 1), label = 'power law fit')\n",
    "    plt.xlabel('k')\n",
    "    plt.ylabel('p(k)')\n",
    "    plt.legend()\n",
    "    plt.show()"
   ]
  },
  {
   "cell_type": "markdown",
   "metadata": {},
   "source": [
    "Generating random numbers that follow powerlaw distribution according to the merhod described in Appendix D"
   ]
  },
  {
   "cell_type": "code",
   "execution_count": 8,
   "metadata": {},
   "outputs": [],
   "source": [
    "def x_fn_above(u, xmin, alpha):\n",
    "    # When r>=rmin.\n",
    "    x = xmin * pow((1.-u), 1./(1.-alpha))\n",
    "    return (x)"
   ]
  },
  {
   "cell_type": "markdown",
   "metadata": {},
   "source": [
    "We generate ntail data points that follow a power law distribution using the function mentioned above. If n is the size of the data set, we pick n - ntail observations from the original data set that do not follow a powerlaw distribution.\n",
    "\n",
    "Once the synthetic data is created, we fit it using the function above to calculate the KS value that is compared with that of the real data"
   ]
  },
  {
   "cell_type": "code",
   "execution_count": 9,
   "metadata": {},
   "outputs": [],
   "source": [
    "def genp(xmin, alpha, ntail, ks, degree):\n",
    "    nexp = len(degree) - ntail\n",
    "    p = 0\n",
    "    # Normalization factor:\n",
    "    C = (1./xmin) * pow((1./(alpha-1) + (np.exp(alpha)-1)/alpha), -1)\n",
    "    \n",
    "    for i in range(pcheck):\n",
    "        # random numbers from uniform distribution in range [0, 1):\n",
    "        r = np.random.uniform(low = 0., high = 1, size = ntail)\n",
    "       \n",
    "        \n",
    "        y_above = []\n",
    "        for u in r:\n",
    "            y_above.append(x_fn_above(u,  xmin-0.5, alpha))\n",
    "        \n",
    "        y_temp1 = y_above\n",
    "        y_temp2 = np.array(y_temp1)\n",
    "        y = np.round(y_temp2 + 0.5)\n",
    "        x = y.astype(int)\n",
    "        x = x[x>0]\n",
    "    \n",
    "        exp_data = np.random.choice(degree[degree < xmin], nexp)\n",
    "        x = np.append(x, exp_data)\n",
    "    \n",
    "        ks_synthetic = findxmin(x)[4]\n",
    "    \n",
    "        if ks_synthetic > ks:\n",
    "            p += 1\n",
    "        else:\n",
    "            pass\n",
    "    \n",
    "    p /= pcheck\n",
    "    return p\n",
    "    "
   ]
  },
  {
   "cell_type": "code",
   "execution_count": 10,
   "metadata": {},
   "outputs": [
    {
     "name": "stdout",
     "output_type": "stream",
     "text": [
      "2018 2.9038652130822595\n"
     ]
    }
   ],
   "source": [
    "g = nx.read_edgelist('protein.edgelist.txt')\n",
    "degree = list(g.degree())\n",
    "degree = np.array([x[1] for x in degree])\n",
    "print (len(g), 2*len(g.edges())/len(g))"
   ]
  },
  {
   "cell_type": "code",
   "execution_count": 11,
   "metadata": {},
   "outputs": [
    {
     "name": "stdout",
     "output_type": "stream",
     "text": [
      "xmin = 6 alpha =  2.8552837536195383\n"
     ]
    },
    {
     "data": {
      "image/png": "[encoded data removed]",
      "text/plain": [
       "<Figure size 432x288 with 1 Axes>"
      ]
     },
     "metadata": {
      "needs_background": "light"
     },
     "output_type": "display_data"
    }
   ],
   "source": [
    "xmin, alpha, n, sigma, ks, pdata = findxmin(degree)\n",
    "print (\"xmin =\", xmin, \"alpha = \", alpha)\n",
    "genp(xmin, alpha, n, ks, degree)\n",
    "pplot(pdata, xmin, alpha)"
   ]
  },
  {
   "cell_type": "code",
   "execution_count": 12,
   "metadata": {},
   "outputs": [
    {
     "name": "stdout",
     "output_type": "stream",
     "text": [
      "4941 2.66909532483303\n"
     ]
    }
   ],
   "source": [
    "g = nx.read_edgelist('powergrid.edgelist.txt')\n",
    "degree = list(g.degree())\n",
    "degree = np.array([x[1] for x in degree])\n",
    "print (len(g), 2*len(g.edges())/len(g))"
   ]
  },
  {
   "cell_type": "code",
   "execution_count": 13,
   "metadata": {},
   "outputs": [
    {
     "name": "stdout",
     "output_type": "stream",
     "text": [
      "xmin = 10 alpha =  7.623518211330042\n"
     ]
    },
    {
     "data": {
      "image/png": "[encoded data removed]",
      "text/plain": [
       "<Figure size 432x288 with 1 Axes>"
      ]
     },
     "metadata": {
      "needs_background": "light"
     },
     "output_type": "display_data"
    }
   ],
   "source": [
    "xmin, alpha, n, sigma, ks, pdata = findxmin(degree)\n",
    "print (\"xmin =\", xmin, \"alpha = \", alpha)\n",
    "genp(xmin, alpha, n, ks, degree)\n",
    "pplot(pdata, xmin, alpha)"
   ]
  },
  {
   "cell_type": "code",
   "execution_count": 14,
   "metadata": {},
   "outputs": [
    {
     "name": "stdout",
     "output_type": "stream",
     "text": [
      "325729\n",
      "325729 9.192512794378148\n"
     ]
    }
   ],
   "source": [
    "g = nx.read_edgelist('www.edgelist.txt', create_using = nx.DiGraph)\n",
    "degree = list(g.in_degree())\n",
    "degree = np.array([x[1] for x in degree])\n",
    "degree = degree[degree > 0]\n",
    "print (len(g))\n",
    "print (len(g), 2*len(g.edges())/len(g))"
   ]
  },
  {
   "cell_type": "code",
   "execution_count": 15,
   "metadata": {},
   "outputs": [
    {
     "name": "stdout",
     "output_type": "stream",
     "text": [
      "xmin = 5 alpha =  1.9334225883203586\n"
     ]
    },
    {
     "name": "stderr",
     "output_type": "stream",
     "text": [
      "C:\\Users\\gvaid\\Anaconda3\\lib\\site-packages\\ipykernel_launcher.py:4: RuntimeWarning: divide by zero encountered in log\n",
      "  after removing the cwd from sys.path.\n"
     ]
    },
    {
     "data": {
      "image/png": "[encoded data removed]",
      "text/plain": [
       "<Figure size 432x288 with 1 Axes>"
      ]
     },
     "metadata": {
      "needs_background": "light"
     },
     "output_type": "display_data"
    }
   ],
   "source": [
    "xmin, alpha, n, sigma, ks, pdata = findxmin(degree)\n",
    "print (\"xmin =\", xmin, \"alpha = \", alpha)\n",
    "genp(xmin, alpha, n, ks, degree)\n",
    "pplot(pdata, xmin, alpha)"
   ]
  },
  {
   "cell_type": "code",
   "execution_count": 16,
   "metadata": {},
   "outputs": [
    {
     "name": "stdout",
     "output_type": "stream",
     "text": [
      "325729 9.192512794378148\n",
      "137941\n"
     ]
    }
   ],
   "source": [
    "g = nx.read_edgelist('www.edgelist.txt', create_using = nx.DiGraph)\n",
    "degree = list(g.out_degree())\n",
    "degree = np.array([x[1] for x in degree])\n",
    "degree = degree[degree > 0]\n",
    "print (len(g), 2*len(g.edges())/len(g))\n",
    "print (len(degree))"
   ]
  },
  {
   "cell_type": "code",
   "execution_count": 17,
   "metadata": {},
   "outputs": [
    {
     "name": "stdout",
     "output_type": "stream",
     "text": [
      "xmin = 8 alpha =  2.0604240514749863\n"
     ]
    },
    {
     "name": "stderr",
     "output_type": "stream",
     "text": [
      "C:\\Users\\gvaid\\Anaconda3\\lib\\site-packages\\ipykernel_launcher.py:4: RuntimeWarning: divide by zero encountered in log\n",
      "  after removing the cwd from sys.path.\n"
     ]
    },
    {
     "data": {
      "image/png": "[encoded data removed]",
      "text/plain": [
       "<Figure size 432x288 with 1 Axes>"
      ]
     },
     "metadata": {
      "needs_background": "light"
     },
     "output_type": "display_data"
    }
   ],
   "source": [
    "xmin, alpha, n, sigma, ks, pdata = findxmin(degree)\n",
    "print (\"xmin =\", xmin, \"alpha = \", alpha)\n",
    "genp(xmin, alpha, n, ks, degree)\n",
    "pplot(pdata, xmin, alpha)"
   ]
  },
  {
   "cell_type": "code",
   "execution_count": 18,
   "metadata": {},
   "outputs": [
    {
     "name": "stdout",
     "output_type": "stream",
     "text": [
      "1039\n",
      "1039 11.168431183830606\n"
     ]
    }
   ],
   "source": [
    "g = nx.read_edgelist('metabolic.edgelist.txt', create_using = nx.DiGraph)\n",
    "degree = list(g.degree())\n",
    "degree = np.array([x[1] for x in degree])\n",
    "degree = degree[degree > 0]\n",
    "print (len(g))\n",
    "print (len(g), 2*len(g.edges())/len(g))"
   ]
  },
  {
   "cell_type": "code",
   "execution_count": 19,
   "metadata": {},
   "outputs": [
    {
     "name": "stdout",
     "output_type": "stream",
     "text": [
      "xmin = 7 alpha =  2.6427071887459355\n"
     ]
    },
    {
     "data": {
      "image/png": "[encoded data removed]",
      "text/plain": [
       "<Figure size 432x288 with 1 Axes>"
      ]
     },
     "metadata": {
      "needs_background": "light"
     },
     "output_type": "display_data"
    }
   ],
   "source": [
    "xmin, alpha, n, sigma, ks, pdata = findxmin(degree)\n",
    "print (\"xmin =\", xmin, \"alpha = \", alpha)\n",
    "genp(xmin, alpha, n, ks, degree)\n",
    "pplot(pdata, xmin, alpha)"
   ]
  }
 ],
 "metadata": {
  "kernelspec": {
   "display_name": "Python 3",
   "language": "python",
   "name": "python3"
  },
  "language_info": {
   "codemirror_mode": {
    "name": "ipython",
    "version": 3
   },
   "file_extension": ".py",
   "mimetype": "text/x-python",
   "name": "python",
   "nbconvert_exporter": "python",
   "pygments_lexer": "ipython3",
   "version": "3.7.3"
  }
 },
 "nbformat": 4,
 "nbformat_minor": 2
}
