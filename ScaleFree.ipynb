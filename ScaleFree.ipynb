{
 "cells": [
  {
   "cell_type": "markdown",
   "metadata": {},
   "source": [
    "# Generating Scale Free Networks using Preferential Attachment "
   ]
  },
  {
   "cell_type": "code",
   "execution_count": 13,
   "metadata": {},
   "outputs": [],
   "source": [
    "import networkx as nx\n",
    "import matplotlib.pyplot as plt\n",
    "from collections import Counter\n",
    "import numpy as np\n",
    "from numba import jit, njit\n",
    "ng = nx.gnp_random_graph(5,0.45)"
   ]
  },
  {
   "cell_type": "code",
   "execution_count": 22,
   "metadata": {},
   "outputs": [],
   "source": [
    "#Creating a scale free network on the basis of preferential attachment starting with m0 members\n",
    "def scalefree(m0, tf, g = nx.gnp_random_graph(5,0.45)):\n",
    "    newnodes = []\n",
    "    cnt = 0\n",
    "    deglist = []\n",
    "    plist = []\n",
    "    kav = m0\n",
    "    temp = []\n",
    "    elist = []\n",
    "    nodes = [i for i in range(m0)]\n",
    "    for i in g.nodes():\n",
    "        deglist.append(len(g.edges(i)))\n",
    "    \n",
    "    for i in range (tf):\n",
    "        cnt = len(list(g.nodes()))\n",
    "        newnodes = [j for j in range (len(g), len(g)+m0+1)]\n",
    "        g.add_nodes_from(newnodes)\n",
    "        elist = list(g.edges())\n",
    "        addedge(elist)\n",
    "        g = nx.Graph()\n",
    "        g.add_edges_from(elist)\n",
    "    return g"
   ]
  },
  {
   "cell_type": "code",
   "execution_count": 23,
   "metadata": {},
   "outputs": [],
   "source": [
    "@jit\n",
    "def addedge(elist):\n",
    "    for i in newnodes:\n",
    "        plist = list(np.array(deglist)/sum(deglist))\n",
    "        random_list = list(np.random.random((cnt)))\n",
    "        node_connections = np.where(np.array(random_list) < np.array(plist[0:cnt]))[0]\n",
    "        if len(node_connections) >= kav:\n",
    "            for j in node_connections[0:kav+1]:\n",
    "                elist.append((i,j))\n",
    "                deglist[j] += 1\n",
    "                if len(deglist) > i:\n",
    "                    deglist[i] += 1\n",
    "                else:\n",
    "                    deglist.append(1)\n",
    "        else:\n",
    "            for j in node_connections:\n",
    "                elist.append((i,j))\n",
    "                deglist[j] += 1\n",
    "                if len(deglist) > i:\n",
    "                    deglist[i] += 1\n",
    "                else:\n",
    "                    deglist.append(1)"
   ]
  },
  {
   "cell_type": "code",
   "execution_count": 53,
   "metadata": {},
   "outputs": [],
   "source": [
    "def compare_inv(times):\n",
    "    color = ['red', 'blue', 'green', 'yellow']\n",
    "    for i in times:\n",
    "        degree = plist = dlist = []\n",
    "        graph = scalefree(5,i)\n",
    "        print (graph)\n",
    "        degree = list(graph.degree())\n",
    "        degree = [x[1] for x in degree]\n",
    "        \n",
    "        plist = list(Counter(degree).values())\n",
    "        plist = [i/len(graph) for i in plist]\n",
    "        for j in degree:\n",
    "            if j not in dlist:\n",
    "                dlist.append(i)\n",
    "            else:\n",
    "                pass\n",
    "        plt.scatter(dlist,plist,c = color.pop(), label = \"t = {}\".format(i))\n",
    "        plt.xscale('log')\n",
    "        plt.yscale('log')\n",
    "        plt.xlim(1,100)\n",
    "        plt.ylim(0.001,1)\n",
    "        plt.legend()\n",
    "    plt.show()"
   ]
  },
  {
   "cell_type": "code",
   "execution_count": null,
   "metadata": {},
   "outputs": [],
   "source": [
    "compare_inv([500, 1000])"
   ]
  },
  {
   "cell_type": "code",
   "execution_count": null,
   "metadata": {},
   "outputs": [],
   "source": [
    "#plotting degree distribution\n",
    "def degree_dist(graph)\n",
    "    degree = list(graph.degree())\n",
    "    degree = [x[1] for x in degree]\n",
    "    dmax = max(degree)\n",
    "    interval1 = int(dmax/10)+1\n",
    "    \n",
    "    bin = range(0,dmax+interval-dmax%interval,interval)\n",
    "    plt.hist(degree, bin, histtype = 'bar', rwidth = 0.4, normed = 1)\n",
    "    plt.xlabel = \"Degree\"\n",
    "    plt.ylabel = \"p(k)\"\n",
    "    plt.show()"
   ]
  }
 ],
 "metadata": {
  "kernelspec": {
   "display_name": "Python 3",
   "language": "python",
   "name": "python3"
  },
  "language_info": {
   "codemirror_mode": {
    "name": "ipython",
    "version": 3
   },
   "file_extension": ".py",
   "mimetype": "text/x-python",
   "name": "python",
   "nbconvert_exporter": "python",
   "pygments_lexer": "ipython3",
   "version": "3.7.3"
  }
 },
 "nbformat": 4,
 "nbformat_minor": 2
}
